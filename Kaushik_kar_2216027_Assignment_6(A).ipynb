{
  "nbformat": 4,
  "nbformat_minor": 0,
  "metadata": {
    "colab": {
      "provenance": []
    },
    "kernelspec": {
      "name": "python3",
      "display_name": "Python 3"
    },
    "language_info": {
      "name": "python"
    }
  },
  "cells": [
    {
      "cell_type": "markdown",
      "source": [
        "Code to Plot Losses inline in this notebook"
      ],
      "metadata": {
        "id": "J5kLzeFoD0fz"
      }
    },
    {
      "cell_type": "code",
      "source": [
        "%matplotlib inline"
      ],
      "metadata": {
        "id": "i288JftSD5Rg"
      },
      "execution_count": 1,
      "outputs": []
    },
    {
      "cell_type": "markdown",
      "source": [
        "#Introduction of deep learning\n",
        "\n",
        "To help you understands the fundamentals of deep learning.Deep Learning is a subset of Machine Learning that uses mathematical functions to map the input to the output. These functions can extract non-redundant information or patterns from the data, which enables them to form a relationship between the input and the output"
      ],
      "metadata": {
        "id": "ysoX9EBnECHw"
      }
    },
    {
      "cell_type": "markdown",
      "source": [
        "## The Task for the AI\n",
        "\n",
        "Our goal is to construct and train ANN on thousand of images of hand written digits, So that it may successfully identify others when presented. The data will be incorporated is the MNIST database, which contains 60,000 of training and 10,000 of test images\n"
      ],
      "metadata": {
        "id": "S3G_CPwpEM68"
      }
    },
    {
      "cell_type": "markdown",
      "source": [
        "## Prerequisite Python Moudules"
      ],
      "metadata": {
        "id": "tbHV0_obE8KR"
      }
    },
    {
      "cell_type": "markdown",
      "source": [
        "first some software needs to be loaded in the python environment"
      ],
      "metadata": {
        "id": "NiKKAcPzmzOR"
      }
    },
    {
      "cell_type": "code",
      "source": [
        "#Random\n",
        "#Python Random module is an in-built module of Python which is used to generate random numbers.\n",
        "#Randomness is used as a tool to help the learning algorithms be more robust and ultimately result in better predictions and more accurate models\n",
        "\n",
        "\n",
        "import numpy as np                 # advanced math library\n",
        "import matplotlib.pyplot as plt    # MATLAB like plotting routines\n",
        "import random                      # For generating random number\n",
        "%matplotlib inline\n",
        "\n",
        "\n",
        "from keras.datasets import mnist      # MNIST dataset is included in keras\n",
        "from keras.models import Sequential   # Model type to be used\n",
        "\n",
        "from keras.layers.core import Dense, Dropout, Activation\n",
        "from keras.utils import np_utils"
      ],
      "metadata": {
        "id": "E6QXpDGzD7-a"
      },
      "execution_count": 2,
      "outputs": []
    },
    {
      "cell_type": "markdown",
      "source": [
        "# Loading Training Data"
      ],
      "metadata": {
        "id": "E2_7ZEgLH8rU"
      }
    },
    {
      "cell_type": "code",
      "source": [
        "(X_train, y_train), (X_test, y_test) = mnist.load_data()\n",
        "\n",
        "print(\"X_train shape\", X_train.shape)   #printing the shape of the training set\n",
        "print(\"y_train shape\", y_train.shape)\n",
        "print(\"X_test shape\",X_test.shape)      #printing the shape of the test set\n",
        "print(\"y_test shape\", y_test.shape)"
      ],
      "metadata": {
        "colab": {
          "base_uri": "https://localhost:8080/"
        },
        "id": "2mTRqtT9IC3s",
        "outputId": "ab0c5d59-82d2-4bb9-bc09-c9160346b01b"
      },
      "execution_count": 3,
      "outputs": [
        {
          "output_type": "stream",
          "name": "stdout",
          "text": [
            "Downloading data from https://storage.googleapis.com/tensorflow/tf-keras-datasets/mnist.npz\n",
            "11490434/11490434 [==============================] - 0s 0us/step\n",
            "X_train shape (60000, 28, 28)\n",
            "y_train shape (60000,)\n",
            "X_test shape (10000, 28, 28)\n",
            "y_test shape (10000,)\n"
          ]
        }
      ]
    },
    {
      "cell_type": "markdown",
      "source": [],
      "metadata": {
        "id": "ABLkg1rDI2dL"
      }
    },
    {
      "cell_type": "code",
      "source": [
        "#Everytime Matplotlib loads, it defines a runtime configuration (rc) containing the default styles for every plot element you create. This configuration can be adjusted at any time using the plt.\n",
        "plt.rcParams['figure.figsize'] = (9,9)\n",
        "\n",
        "for i in range(9):\n",
        "  plt.subplot(3,3,i+1) #subplot as the name suggests creates more than one plots in same output window\n",
        "  num = random.randint(0,len(X_train))  #randint from random library is used for randomly choosing the number within the length dataset\n",
        "  plt.imshow(X_train[num], cmap = 'gray', interpolation = 'none') #plot the randomly chosen training data from the training set \n",
        "  plt.title(\"Class {}\".format(y_train[num])) #set title\n",
        "#adjusting the padding between and around subplots\n",
        "plt.tight_layout()\n",
        "\n",
        "\n"
      ],
      "metadata": {
        "colab": {
          "base_uri": "https://localhost:8080/",
          "height": 657
        },
        "id": "4ZbX0254I3Go",
        "outputId": "64251d50-fbf5-4524-86f7-31637a928349"
      },
      "execution_count": 4,
      "outputs": [
        {
          "output_type": "display_data",
          "data": {
            "text/plain": [
              "<Figure size 648x648 with 9 Axes>"
            ],
            "image/png": "[encoded data removed]"
          },
          "metadata": {
            "needs_background": "light"
          }
        }
      ]
    },
    {
      "cell_type": "markdown",
      "source": [],
      "metadata": {
        "id": "7eoIlLSnK83R"
      }
    },
    {
      "cell_type": "code",
      "source": [
        "# just a little function for pretty printing a matrix\n",
        "def matprint(mat, fmt=\"g\"):\n",
        "    col_maxes = [max([len((\"{:\"+fmt+\"}\").format(x)) for x in col]) for col in mat.T]\n",
        "    for x in mat:\n",
        "        for i, y in enumerate(x):\n",
        "            print((\"{:\"+str(col_maxes[i])+fmt+\"}\").format(y), end=\"  \")\n",
        "        print(\"\")\n",
        "# now print!        \n",
        "matprint(X_train[num])"
      ],
      "metadata": {
        "colab": {
          "base_uri": "https://localhost:8080/"
        },
        "id": "k7_SatL6Lq1y",
        "outputId": "5b7a9a08-5192-4db7-b41d-4043df618fb6"
      },
      "execution_count": 5,
      "outputs": [
        {
          "output_type": "stream",
          "name": "stdout",
          "text": [
            "0  0  0  0  0  0   0    0    0    0    0    0    0    0    0    0    0    0    0    0    0    0    0  0  0  0  0  0  \n",
            "0  0  0  0  0  0   0    0    0    0    0    0    0    0    0    0    0    0    0    0    0    0    0  0  0  0  0  0  \n",
            "0  0  0  0  0  0   0    0    0    0    0    0    0    0  158  255  132    0    0    0    0    0    0  0  0  0  0  0  \n",
            "0  0  0  0  0  0   0    0    0    0    0    0    0  158  253  215   94    0    0    0    0    0    0  0  0  0  0  0  \n",
            "0  0  0  0  0  0   0    0    0    0    0    0  105  253  212    4    0    0    0    0    0    0    0  0  0  0  0  0  \n",
            "0  0  0  0  0  0   0    0    0    0    0   58  238  241   95    0    0    0    0    0    0    0    0  0  0  0  0  0  \n",
            "0  0  0  0  0  0   0    0    0    0    0  164  254  206    0    0    0    0    0    0    0    0    0  0  0  0  0  0  \n",
            "0  0  0  0  0  0   0    0    0    0   85  252  236   66    0    0    0    0    0    0    0    0    0  0  0  0  0  0  \n",
            "0  0  0  0  0  0   0    0    0   15  191  254  158    4    0    0    0    0    0    0    0    0    0  0  0  0  0  0  \n",
            "0  0  0  0  0  0   0    0    0  112  254  242   34    0    0    0    0    0    0    0    0    0    0  0  0  0  0  0  \n",
            "0  0  0  0  0  0   0    0   37  234  254   78    0    0    0    0    0    0    0    0    0    0    0  0  0  0  0  0  \n",
            "0  0  0  0  0  0   0    0  114  254  158    4    0    0    0    0   48  169  216  216  216  146    0  0  0  0  0  0  \n",
            "0  0  0  0  0  0   0    0  198  254  108    0    0    0    0  118  246  254  236  178  166  251  145  0  0  0  0  0  \n",
            "0  0  0  0  0  0   0  102  251  211   27    0    0    7  123  246  225   94   27    0   59  254  204  0  0  0  0  0  \n",
            "0  0  0  0  0  0   0  112  254  161    0    0    7  102  254  225   72    0    0    0   45  254  217  0  0  0  0  0  \n",
            "0  0  0  0  0  0   0  178  254  103    0    0   61  254  249   87    0    0    0    3  177  254  217  0  0  0  0  0  \n",
            "0  0  0  0  0  0   0  196  230   32    0   54  187  250  105    0    0    0   12  149  254  219   63  0  0  0  0  0  \n",
            "0  0  0  0  0  0   0  246  225   10    0   63  254  200    0    0    0   25  177  252  230   84    0  0  0  0  0  0  \n",
            "0  0  0  0  0  0  27  249  182   41    0  172  254   69  102  185  185  240  254  164    0    0    0  0  0  0  0  0  \n",
            "0  0  0  0  0  0   0  184  254  210  181  222  254  254  254  254  247  235   92   18    0    0    0  0  0  0  0  0  \n",
            "0  0  0  0  0  0   0   49  182  253  254  254  254  254  237  150   15    0    0    0    0    0    0  0  0  0  0  0  \n",
            "0  0  0  0  0  0   0    0    0   77  160  167  197  183   96    0    0    0    0    0    0    0    0  0  0  0  0  0  \n",
            "0  0  0  0  0  0   0    0    0    0    0    0    0    0    0    0    0    0    0    0    0    0    0  0  0  0  0  0  \n",
            "0  0  0  0  0  0   0    0    0    0    0    0    0    0    0    0    0    0    0    0    0    0    0  0  0  0  0  0  \n",
            "0  0  0  0  0  0   0    0    0    0    0    0    0    0    0    0    0    0    0    0    0    0    0  0  0  0  0  0  \n",
            "0  0  0  0  0  0   0    0    0    0    0    0    0    0    0    0    0    0    0    0    0    0    0  0  0  0  0  0  \n",
            "0  0  0  0  0  0   0    0    0    0    0    0    0    0    0    0    0    0    0    0    0    0    0  0  0  0  0  0  \n",
            "0  0  0  0  0  0   0    0    0    0    0    0    0    0    0    0    0    0    0    0    0    0    0  0  0  0  0  0  \n"
          ]
        }
      ]
    },
    {
      "cell_type": "code",
      "source": [
        "#flatenning the image 2D Array to 1D Array\n",
        "X_train = X_train.reshape(60000, 784)   # reshape 60,000 28*28 matrices into\n",
        "X_test = X_test.reshape(10000, 784)     # reshape 10,000 28*28 matrices into\n",
        "#Before applying any normalization, the type of the entire dataframe must be casted from 'str' to 'float' as far as it contains only numerical values.\n",
        "X_train = X_train.astype('float32')\n",
        "X_test = X_test.astype('float32')\n",
        "\n"
      ],
      "metadata": {
        "id": "Q-X-DEaSLsat"
      },
      "execution_count": 6,
      "outputs": []
    },
    {
      "cell_type": "markdown",
      "source": [
        "## Normalaization\n",
        "\n",
        "we will follow min-max standarization (since pixel cant take negative values so we cant us standard scalar process).\n",
        "We want to normalize the input data in range 0-1 rather than 0-255.\n"
      ],
      "metadata": {
        "id": "U2s90lqQI-Dy"
      }
    },
    {
      "cell_type": "code",
      "source": [
        "#1byte = 8 bits. (Image is a 2D array) 2^8 =256, so 256 different values can be fit into 1 (0-255)\n",
        "X_train /= 255   \n",
        "# normalize each value for each pixel \n",
        "X_test /= 255   "
      ],
      "metadata": {
        "id": "LmsbIK32JXaw"
      },
      "execution_count": 7,
      "outputs": []
    },
    {
      "cell_type": "markdown",
      "source": [
        "Printing the new set of the dataset"
      ],
      "metadata": {
        "id": "07PsUsOBJlo1"
      }
    },
    {
      "cell_type": "code",
      "source": [
        "print(\"Training matrix shape\", X_train.shape) #printing x_train shape\n",
        "print(\"Testing matrix shape\", X_test.shape)   #printing y_train_shape"
      ],
      "metadata": {
        "colab": {
          "base_uri": "https://localhost:8080/"
        },
        "id": "zaW9wcaFM7fx",
        "outputId": "6d1144f6-e5f0-4414-c40b-1adade1d8d02"
      },
      "execution_count": 8,
      "outputs": [
        {
          "output_type": "stream",
          "name": "stdout",
          "text": [
            "Training matrix shape (60000, 784)\n",
            "Testing matrix shape (10000, 784)\n"
          ]
        }
      ]
    },
    {
      "cell_type": "markdown",
      "source": [
        "## One Hot Encoding\n",
        "\n",
        "One Hot Encoding is used to convert numerical categorical variables into binary vectors.It is a part of Data Preprocessing. In Deep Learning model to feed the model with data that enables it to make a classification decision, we would require to perform One Hot Encoding during data processing."
      ],
      "metadata": {
        "id": "VvP_rsWRJ3ek"
      }
    },
    {
      "cell_type": "code",
      "source": [
        "nb_classes = 10 # number of unique digits\n",
        "#Used to convert array of labeled data(from 0 to nb_classes - 1 ) to one-hot vector. \n",
        "Y_train = np_utils.to_categorical(y_train, nb_classes)\n",
        "Y_test = np_utils.to_categorical(y_test, nb_classes)"
      ],
      "metadata": {
        "id": "TRCHiUieOsOu"
      },
      "execution_count": 9,
      "outputs": []
    },
    {
      "cell_type": "markdown",
      "source": [
        " ## **Sequential**\n",
        "\n",
        "There are three ways to create Keras models: Sequential Model, Functional API, Model Subclassing\n",
        "\n",
        "The Sequential Model in Keras allows us to create models layer-by-layer for most problems. It is limited to single-input, single-output stacks of layers.\n",
        "\n",
        "The Sequential model API is a way of creating deep learning models where an instance of the Sequential class is created and model layers are created and added to it.\n",
        "\n"
      ],
      "metadata": {
        "id": "f-7As4HNKt7Y"
      }
    },
    {
      "cell_type": "code",
      "source": [
        "# The Sequential model is a linear stack of layers\n",
        "model = Sequential()"
      ],
      "metadata": {
        "id": "1a5wK3csJ5lW"
      },
      "execution_count": 10,
      "outputs": []
    },
    {
      "cell_type": "markdown",
      "source": [
        "## **The first hidden layer**"
      ],
      "metadata": {
        "id": "QImTuOu5LD16"
      }
    },
    {
      "cell_type": "code",
      "source": [
        "# The first hidden layer is a set of 512 nodes (artifical neurons), [2^9=512, no. of neurons are generally choosen in 2^x form]\n",
        "# Dense Layer is simple layer of neurons in which each neuron receives input from all the neurons of previous layer\n",
        "model.add(Dense(512, input_shape = (784,))) #adding layers via the .add() method\n",
        "#input_shape must be mentioned for only the first layer because following layers can do automatic shape inference\n",
        "model.add(Dense(512, input_shape = (784,)))"
      ],
      "metadata": {
        "id": "R63W6AWoIpXw"
      },
      "execution_count": 11,
      "outputs": []
    },
    {
      "cell_type": "code",
      "source": [
        "#we use ReLU in hidden layer to avoid vanishing gradient problem and better computation performance \n",
        "model.add(Activation('relu'))"
      ],
      "metadata": {
        "id": "ylJWyTULRRjO"
      },
      "execution_count": 12,
      "outputs": []
    },
    {
      "cell_type": "code",
      "source": [
        "#the machine needs to memorize the pattern not the exact pixels, to do this we do dropouts\n",
        "model.add(Dropout(0.2)) #to prevent the net from overfitting a dropout layer ignores a set of neurons (randomly) \n",
        "#turning off 20% of the neuron chosen randomly\n",
        "#mainly dropout is applied after the non-linear activation function\n",
        "#normal droput range is 0.1 to 0.5 - above 0.5 it is not advisable as it will hamper the learning"
      ],
      "metadata": {
        "id": "LWmsid3GIBBc"
      },
      "execution_count": 13,
      "outputs": []
    },
    {
      "cell_type": "markdown",
      "source": [
        "## **The second hidden layer**"
      ],
      "metadata": {
        "id": "sQ2J4bhBLn7G"
      }
    },
    {
      "cell_type": "code",
      "source": [
        "# Adding Second layer\n",
        "model.add(Dense(512)) #here the input_shape is not required because this layers can do automatic shape inference\n",
        "#instead of each of 512 node receiving 784 input, the model is recieving 512 inputs from the output of 512 node layer\n",
        "model.add(Activation('relu'))#we use ReLU in hidden layer to avoid vanishing gradient problem and better computation performance \n",
        "model.add(Dropout(0.2)) #to prevent the net from overfitting a dropout layer ignores a set of neurons randomly"
      ],
      "metadata": {
        "id": "5RfIWQrEG3Aw"
      },
      "execution_count": 14,
      "outputs": []
    },
    {
      "cell_type": "markdown",
      "source": [
        "# **The Final Output Layer**\n",
        "\n",
        "1.This is the final hidden layer and should have as many neurons as there are outputs to the classification problem.\n",
        "\n",
        "2.As this is a multi-class classification, Multiple neurons, one for each class is used. Here total 10 class are to be classified so no, of neurons taken 10"
      ],
      "metadata": {
        "id": "FYi0XkhDUNuv"
      }
    },
    {
      "cell_type": "code",
      "source": [
        "model.add(Dense(10))"
      ],
      "metadata": {
        "id": "z7IAlKupURQi"
      },
      "execution_count": 15,
      "outputs": []
    },
    {
      "cell_type": "markdown",
      "source": [
        "Softmax Activation Function\n",
        "\n",
        "1.The softmax function is used as the activation function in the output layer of neural network models that predict a multinomial probability distribution.\n",
        "\n",
        "2.softmax is used as the activation function for multi-class classification problems where class membership is required on more than two class labels.\n",
        "\n",
        "3.The softmax activation function transforms the raw outputs of the neural network into a vector of probabilities, essentially a probability distribution over the input classes."
      ],
      "metadata": {
        "id": "Fbwhcit0MO-A"
      }
    },
    {
      "cell_type": "code",
      "source": [
        "model.add(Activation('softmax'))"
      ],
      "metadata": {
        "id": "YpZW6espUmvO"
      },
      "execution_count": 16,
      "outputs": []
    },
    {
      "cell_type": "markdown",
      "source": [
        "#**Summary**"
      ],
      "metadata": {
        "id": "ov799WiZMXJ4"
      }
    },
    {
      "cell_type": "code",
      "source": [
        "# Summary of the model\n",
        "\n",
        "model.summary()"
      ],
      "metadata": {
        "colab": {
          "base_uri": "https://localhost:8080/"
        },
        "id": "gm5GUOIgUvCJ",
        "outputId": "15e6b039-94b3-466d-caef-c996c3289377"
      },
      "execution_count": 17,
      "outputs": [
        {
          "output_type": "stream",
          "name": "stdout",
          "text": [
            "Model: \"sequential\"\n",
            "_________________________________________________________________\n",
            " Layer (type)                Output Shape              Param #   \n",
            "=================================================================\n",
            " dense (Dense)               (None, 512)               401920    \n",
            "                                                                 \n",
            " dense_1 (Dense)             (None, 512)               262656    \n",
            "                                                                 \n",
            " activation (Activation)     (None, 512)               0         \n",
            "                                                                 \n",
            " dropout (Dropout)           (None, 512)               0         \n",
            "                                                                 \n",
            " dense_2 (Dense)             (None, 512)               262656    \n",
            "                                                                 \n",
            " activation_1 (Activation)   (None, 512)               0         \n",
            "                                                                 \n",
            " dropout_1 (Dropout)         (None, 512)               0         \n",
            "                                                                 \n",
            " dense_3 (Dense)             (None, 10)                5130      \n",
            "                                                                 \n",
            " activation_2 (Activation)   (None, 10)                0         \n",
            "                                                                 \n",
            "=================================================================\n",
            "Total params: 932,362\n",
            "Trainable params: 932,362\n",
            "Non-trainable params: 0\n",
            "_________________________________________________________________\n"
          ]
        }
      ]
    },
    {
      "cell_type": "markdown",
      "source": [
        "What are trainable and non- trininable parametersin the summary\n",
        "\n",
        "**Trainable params** - .\n",
        "\n",
        "Trainable Parameters in general are weights that are learnt during training. They are weight matrices that contribute to model’s predictive power, changed during back-propagation process.\n",
        "\n",
        "**Non-trainable params** -\n",
        "\n",
        "Non-trainable parameters is the number of weights that are not updated during training with backpropagation. There are mainly two types of non-trainable weights:\n",
        "\n",
        "1. The ones that you have chosen to keep constant when training. This means that keras won't update these weights during training at all.\n",
        "2. The ones that work like statistics in BatchNormalization layers. They're updated with mean and variance, but they're not \"trained with backpropagation\".\n",
        "\n",
        "Here, weights of all the parameters are updated during training with backpropagation."
      ],
      "metadata": {
        "id": "KMk93nsQVrJu"
      }
    },
    {
      "cell_type": "markdown",
      "source": [
        "## Compiling the model"
      ],
      "metadata": {
        "id": "Zql6izGwWUhx"
      }
    },
    {
      "cell_type": "markdown",
      "source": [
        "**The loss function**\n",
        "\n",
        "It is a critical part of model training: it quantifies how well a model is performing a task by calculating a single number, the loss, from the model output and the desired target.\n",
        "Categorical crossentropy is a loss function that is used in multi-class classification tasks.\n",
        "\n",
        "These are tasks where an example can only belong to one out of many possible categories, and the model must decide which one.\n",
        "\n",
        "The cross entropy is a measure of how different is the predicted distribution from the target distribution.\n",
        "\n",
        "**Optimizer function** -\n",
        "\n",
        "The optimizer helps to determine how quickly the model learns through gradient descent\n",
        "The rate at which descends the gradient is called learning rate.\n",
        "Adam optimization is a stochastic gradient descent method that is based on adaptive estimation of first-order and second-order moments.\n",
        "\n",
        "**Metric**\n",
        "\n",
        "Calculates how often predictions equal labels.\n",
        "This metric creates two local variables, total and count that are used to compute the frequency with which y_pred matches y_true. This frequency is ultimately returned as binary accuracy."
      ],
      "metadata": {
        "id": "N1EgXkIKNM9i"
      }
    },
    {
      "cell_type": "code",
      "source": [
        "model.compile(loss = 'categorical_crossentropy', optimizer='adam',\n",
        "              metrics = ['accuracy'])\n"
      ],
      "metadata": {
        "id": "x1BWxPMxWYf4"
      },
      "execution_count": 18,
      "outputs": []
    },
    {
      "cell_type": "markdown",
      "source": [
        "**Training the Model**\n",
        "\n",
        "1. We train the model by calling fit method.\n",
        "\n",
        "2. During training machine takes in input and weights are decided by computer randomly.\n",
        "\n",
        "3. Then it calculates the difference between the actual output and desired output, that we called the loss function. The optimizer function directs the machine how the weights should be adjusted.\n",
        "\n",
        "4. The fit method refers this cycle of calcualte --> compare --> adjust.\n",
        "\n",
        "Input ---> X_train\n",
        "\n",
        "Output ---> Y_train\n",
        "\n",
        "Number of times cycle should run ---> epochs,\n",
        "\n",
        "Controlling the amount of o/p to be produced ---> verbose"
      ],
      "metadata": {
        "id": "GXd3VQEKNoGF"
      }
    },
    {
      "cell_type": "code",
      "source": [
        "model.fit(X_train, Y_train,\n",
        "          batch_size=128, epochs = 10,\n",
        "          verbose=1)"
      ],
      "metadata": {
        "colab": {
          "base_uri": "https://localhost:8080/"
        },
        "id": "2X4YqRWrYxIw",
        "outputId": "e043ab95-ae96-4aea-f758-f101871fae9a"
      },
      "execution_count": 19,
      "outputs": [
        {
          "output_type": "stream",
          "name": "stdout",
          "text": [
            "Epoch 1/10\n",
            "469/469 [==============================] - 14s 27ms/step - loss: 0.2451 - accuracy: 0.9252\n",
            "Epoch 2/10\n",
            "469/469 [==============================] - 18s 39ms/step - loss: 0.1204 - accuracy: 0.9627\n",
            "Epoch 3/10\n",
            "469/469 [==============================] - 10s 22ms/step - loss: 0.0919 - accuracy: 0.9714\n",
            "Epoch 4/10\n",
            "469/469 [==============================] - 10s 22ms/step - loss: 0.0799 - accuracy: 0.9750\n",
            "Epoch 5/10\n",
            "469/469 [==============================] - 10s 22ms/step - loss: 0.0692 - accuracy: 0.9780\n",
            "Epoch 6/10\n",
            "469/469 [==============================] - 10s 22ms/step - loss: 0.0630 - accuracy: 0.9808\n",
            "Epoch 7/10\n",
            "469/469 [==============================] - 11s 24ms/step - loss: 0.0606 - accuracy: 0.9809\n",
            "Epoch 8/10\n",
            "469/469 [==============================] - 10s 22ms/step - loss: 0.0574 - accuracy: 0.9824\n",
            "Epoch 9/10\n",
            "469/469 [==============================] - 10s 22ms/step - loss: 0.0495 - accuracy: 0.9845\n",
            "Epoch 10/10\n",
            "469/469 [==============================] - 10s 22ms/step - loss: 0.0541 - accuracy: 0.9830\n"
          ]
        },
        {
          "output_type": "execute_result",
          "data": {
            "text/plain": [
              "<keras.callbacks.History at 0x7f0de894ba50>"
            ]
          },
          "metadata": {},
          "execution_count": 19
        }
      ]
    },
    {
      "cell_type": "markdown",
      "source": [
        "#**Evaluation of the model**"
      ],
      "metadata": {
        "id": "mpKMS9xaOMMo"
      }
    },
    {
      "cell_type": "code",
      "source": [
        "score=model.evaluate(X_test,Y_test)\n",
        "print('Test score:', score[0])\n",
        "print('Test accuracy:', score[1])"
      ],
      "metadata": {
        "id": "WHS3cUVCVxq0",
        "colab": {
          "base_uri": "https://localhost:8080/"
        },
        "outputId": "66ef2c4e-ec49-4cd7-e66b-b9a08de81e56"
      },
      "execution_count": 20,
      "outputs": [
        {
          "output_type": "stream",
          "name": "stdout",
          "text": [
            "313/313 [==============================] - 2s 5ms/step - loss: 0.0778 - accuracy: 0.9779\n",
            "Test score: 0.07779203355312347\n",
            "Test accuracy: 0.9779000282287598\n"
          ]
        }
      ]
    },
    {
      "cell_type": "markdown",
      "source": [
        "**Test Score/Loss Score**\n",
        "\n",
        "It is the sum of errors made for each example in training or validation sets. Loss value implies how poorly or well a model behaves after each iteration of optimization.\n",
        "\n",
        "**Test Accuracy**\n",
        "\n",
        "The accuracy of a model is usually determined after the model parameters and is calculated in the form of a percentage. It is the measure of how accurate your model's prediction is compared to the true data."
      ],
      "metadata": {
        "id": "LOW47S7tOWPG"
      }
    },
    {
      "cell_type": "markdown",
      "source": [
        "#**Predicting test set data**"
      ],
      "metadata": {
        "id": "uVt8F5onOsCT"
      }
    },
    {
      "cell_type": "code",
      "source": [
        "predicted_x = model.predict(X_test) #predicting the test set data\n",
        "predicted_classes = np.argmax(predicted_x, axis = 1) \n",
        "correct_indices = np.nonzero(predicted_classes == y_test)[0]\n",
        "incorrect_indices = np.nonzero(predicted_classes != y_test)[0]"
      ],
      "metadata": {
        "id": "OeWGdXSeZXLr",
        "colab": {
          "base_uri": "https://localhost:8080/"
        },
        "outputId": "b71b8dee-439f-4213-bd14-f1b81aef3fe4"
      },
      "execution_count": 21,
      "outputs": [
        {
          "output_type": "stream",
          "name": "stdout",
          "text": [
            "313/313 [==============================] - 2s 5ms/step\n"
          ]
        }
      ]
    },
    {
      "cell_type": "code",
      "source": [
        "plt.figure() #plotting the actual class and image and the corresponding predicted class\n",
        "for i, correct in enumerate(correct_indices[:9]):\n",
        "    plt.subplot(3,3,i+1)\n",
        "    plt.imshow(X_test[correct].reshape(28,28), cmap='gray', interpolation='none')\n",
        "    plt.title(\"Predicted {}, Class {}\".format(predicted_classes[correct], y_test[correct]))\n",
        "    \n",
        "plt.tight_layout()\n",
        "    \n",
        "plt.figure()\n",
        "for i, incorrect in enumerate(incorrect_indices[:9]):\n",
        "    plt.subplot(3,3,i+1)\n",
        "    plt.imshow(X_test[incorrect].reshape(28,28), cmap='gray', interpolation='none')\n",
        "    plt.title(\"Predicted {}, Class {}\".format(predicted_classes[incorrect], y_test[incorrect]))\n",
        "    \n",
        "plt.tight_layout()"
      ],
      "metadata": {
        "id": "N7YHoYKVVR7L",
        "colab": {
          "base_uri": "https://localhost:8080/",
          "height": 1000
        },
        "outputId": "8bc0c484-3fc7-4656-a29d-cb048479d24c"
      },
      "execution_count": 22,
      "outputs": [
        {
          "output_type": "display_data",
          "data": {
            "text/plain": [
              "<Figure size 648x648 with 9 Axes>"
            ],
            "image/png": "[encoded data removed]"
          },
          "metadata": {
            "needs_background": "light"
          }
        },
        {
          "output_type": "display_data",
          "data": {
            "text/plain": [
              "<Figure size 648x648 with 9 Axes>"
            ],
            "image/png": "[encoded data removed]"
          },
          "metadata": {
            "needs_background": "light"
          }
        }
      ]
    },
    {
      "cell_type": "markdown",
      "source": [
        "#**Describing the batch size**"
      ],
      "metadata": {
        "id": "XRNGhcrZPLKp"
      }
    },
    {
      "cell_type": "code",
      "source": [
        "model.fit(X_train, Y_train,\n",
        "          batch_size=32, epochs = 10,\n",
        "          verbose=1)"
      ],
      "metadata": {
        "id": "NJCZtyFeVSw8",
        "colab": {
          "base_uri": "https://localhost:8080/"
        },
        "outputId": "75070b2c-5854-4a55-92fa-dc939af6ade9"
      },
      "execution_count": 23,
      "outputs": [
        {
          "output_type": "stream",
          "name": "stdout",
          "text": [
            "Epoch 1/10\n",
            "1875/1875 [==============================] - 23s 12ms/step - loss: 0.1780 - accuracy: 0.9532\n",
            "Epoch 2/10\n",
            "1875/1875 [==============================] - 23s 12ms/step - loss: 0.1213 - accuracy: 0.9670\n",
            "Epoch 3/10\n",
            "1875/1875 [==============================] - 23s 12ms/step - loss: 0.1186 - accuracy: 0.9692\n",
            "Epoch 4/10\n",
            "1875/1875 [==============================] - 23s 12ms/step - loss: 0.1171 - accuracy: 0.9699\n",
            "Epoch 5/10\n",
            "1875/1875 [==============================] - 25s 13ms/step - loss: 0.1159 - accuracy: 0.9704\n",
            "Epoch 6/10\n",
            "1875/1875 [==============================] - 23s 12ms/step - loss: 0.1224 - accuracy: 0.9693\n",
            "Epoch 7/10\n",
            "1875/1875 [==============================] - 23s 13ms/step - loss: 0.1116 - accuracy: 0.9724\n",
            "Epoch 8/10\n",
            "1875/1875 [==============================] - 24s 13ms/step - loss: 0.1175 - accuracy: 0.9719\n",
            "Epoch 9/10\n",
            "1875/1875 [==============================] - 23s 12ms/step - loss: 0.1124 - accuracy: 0.9727\n",
            "Epoch 10/10\n",
            "1875/1875 [==============================] - 23s 12ms/step - loss: 0.1156 - accuracy: 0.9730\n"
          ]
        },
        {
          "output_type": "execute_result",
          "data": {
            "text/plain": [
              "<keras.callbacks.History at 0x7f0ded03bf90>"
            ]
          },
          "metadata": {},
          "execution_count": 23
        }
      ]
    },
    {
      "cell_type": "code",
      "source": [
        "score=model.evaluate(X_test,Y_test)\n",
        "print('Test score:', score[0])\n",
        "print('Test accuracy:', score[1])"
      ],
      "metadata": {
        "colab": {
          "base_uri": "https://localhost:8080/"
        },
        "id": "YvGqf2rAPTHn",
        "outputId": "e2c621eb-a6ac-40ca-db44-429556c8b945"
      },
      "execution_count": 24,
      "outputs": [
        {
          "output_type": "stream",
          "name": "stdout",
          "text": [
            "313/313 [==============================] - 1s 5ms/step - loss: 0.1266 - accuracy: 0.9733\n",
            "Test score: 0.12664632499217987\n",
            "Test accuracy: 0.9732999801635742\n"
          ]
        }
      ]
    },
    {
      "cell_type": "markdown",
      "source": [
        "**Observations**\n",
        "\n",
        "1. for optimal results we take 32 batch size.\n",
        "2. accuracy improved as small data we are giving in batches"
      ],
      "metadata": {
        "id": "3_hm8fL2PZvo"
      }
    },
    {
      "cell_type": "markdown",
      "source": [
        "#**Increasing the Batch Size**"
      ],
      "metadata": {
        "id": "GwN6EBQXPtET"
      }
    },
    {
      "cell_type": "code",
      "source": [
        "model.fit(X_train, Y_train,\n",
        "          batch_size=10000, epochs = 10,\n",
        "          verbose=1)"
      ],
      "metadata": {
        "colab": {
          "base_uri": "https://localhost:8080/"
        },
        "id": "yIPfOZVNP1Eu",
        "outputId": "ccce309f-fe3b-4527-fe4d-a24781bb2408"
      },
      "execution_count": 25,
      "outputs": [
        {
          "output_type": "stream",
          "name": "stdout",
          "text": [
            "Epoch 1/10\n",
            "6/6 [==============================] - 6s 958ms/step - loss: 0.0981 - accuracy: 0.9763\n",
            "Epoch 2/10\n",
            "6/6 [==============================] - 6s 951ms/step - loss: 0.0937 - accuracy: 0.9760\n",
            "Epoch 3/10\n",
            "6/6 [==============================] - 6s 948ms/step - loss: 0.0855 - accuracy: 0.9775\n",
            "Epoch 4/10\n",
            "6/6 [==============================] - 6s 949ms/step - loss: 0.0727 - accuracy: 0.9806\n",
            "Epoch 5/10\n",
            "6/6 [==============================] - 6s 949ms/step - loss: 0.0693 - accuracy: 0.9815\n",
            "Epoch 6/10\n",
            "6/6 [==============================] - 6s 944ms/step - loss: 0.0644 - accuracy: 0.9827\n",
            "Epoch 7/10\n",
            "6/6 [==============================] - 6s 941ms/step - loss: 0.0597 - accuracy: 0.9832\n",
            "Epoch 8/10\n",
            "6/6 [==============================] - 6s 939ms/step - loss: 0.0585 - accuracy: 0.9840\n",
            "Epoch 9/10\n",
            "6/6 [==============================] - 6s 957ms/step - loss: 0.0537 - accuracy: 0.9847\n",
            "Epoch 10/10\n",
            "6/6 [==============================] - 6s 939ms/step - loss: 0.0539 - accuracy: 0.9850\n"
          ]
        },
        {
          "output_type": "execute_result",
          "data": {
            "text/plain": [
              "<keras.callbacks.History at 0x7f0de4c71810>"
            ]
          },
          "metadata": {},
          "execution_count": 25
        }
      ]
    },
    {
      "cell_type": "code",
      "source": [
        "score=model.evaluate(X_test,Y_test)\n",
        "print('Test score:', score[0])\n",
        "print('Test accuracy:', score[1])"
      ],
      "metadata": {
        "colab": {
          "base_uri": "https://localhost:8080/"
        },
        "id": "pqMBAJRNP5M-",
        "outputId": "b0b9ff14-00ed-4851-f6ad-4ac1470a517e"
      },
      "execution_count": 26,
      "outputs": [
        {
          "output_type": "stream",
          "name": "stdout",
          "text": [
            "313/313 [==============================] - 2s 5ms/step - loss: 0.0931 - accuracy: 0.9803\n",
            "Test score: 0.09313424676656723\n",
            "Test accuracy: 0.9803000092506409\n"
          ]
        }
      ]
    },
    {
      "cell_type": "markdown",
      "source": [
        "**Observations**\n",
        "\n",
        " \n",
        " \n",
        "1. Bigger the batch size, lesser is the noise in the gradients and so better is the gradient estimate. This allows the model to take a better step towards a minima.\n",
        "\n",
        "2. Larger batch sizes make larger gradient steps than smaller batch sizes for the same number of samples.\n",
        "\n",
        "3. By using bigger batch sizes , we speed up training, as it is equivalent to taking a few big steps, instead of taking many little steps.\n",
        "\n",
        "4. Here the accuracy has incresed by negligible amt. after increasing the batch size."
      ],
      "metadata": {
        "id": "-g5VYI-TP8Zv"
      }
    }
  ]
}