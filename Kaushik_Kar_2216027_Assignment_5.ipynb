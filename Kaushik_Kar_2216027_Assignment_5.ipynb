{
  "nbformat": 4,
  "nbformat_minor": 0,
  "metadata": {
    "colab": {
      "provenance": []
    },
    "kernelspec": {
      "name": "python3",
      "display_name": "Python 3"
    },
    "language_info": {
      "name": "python"
    },
    "accelerator": "GPU"
  },
  "cells": [
    {
      "cell_type": "markdown",
      "source": [
        "#The Basics: Training your first Neural Network\n",
        "\n",
        "\n",
        "\n",
        "*   We will use tensorflow\n",
        "*   Keras is integrated into tf\n",
        "*   Train with the given data\n",
        "*   Improve the model with added data\n",
        "\n",
        "\n",
        "\n"
      ],
      "metadata": {
        "id": "4e3R509aaRsZ"
      }
    },
    {
      "cell_type": "code",
      "execution_count": 13,
      "metadata": {
        "id": "B8tuEeguZ0xu"
      },
      "outputs": [],
      "source": [
        "import tensorflow as tf #makes it much easier to write the code as we do not need to put all the codes by using the tensorflow"
      ]
    },
    {
      "cell_type": "code",
      "source": [
        "tf.__version__   # to know the version of the tensorflow"
      ],
      "metadata": {
        "colab": {
          "base_uri": "https://localhost:8080/",
          "height": 35
        },
        "id": "SUcshFthcbLy",
        "outputId": "dabc7f7b-7804-4589-af0b-aea476e154fc"
      },
      "execution_count": 14,
      "outputs": [
        {
          "output_type": "execute_result",
          "data": {
            "text/plain": [
              "'2.9.2'"
            ],
            "application/vnd.google.colaboratory.intrinsic+json": {
              "type": "string"
            }
          },
          "metadata": {},
          "execution_count": 14
        }
      ]
    },
    {
      "cell_type": "markdown",
      "source": [
        "#importing libraries"
      ],
      "metadata": {
        "id": "UhFsKVeZP37U"
      }
    },
    {
      "cell_type": "code",
      "source": [
        "import numpy as np #it helps us to represent our data as highly performent list\n",
        "import logging  #Logging is a way to store information about your script and track events that occur\n",
        "logger=tf.get_logger()\n",
        "logger.setLevel(logging.ERROR)"
      ],
      "metadata": {
        "id": "2l59d9Rpcqdf"
      },
      "execution_count": 15,
      "outputs": []
    },
    {
      "cell_type": "markdown",
      "source": [
        "#Setting up the data"
      ],
      "metadata": {
        "id": "CD9a01Brfbkq"
      }
    },
    {
      "cell_type": "code",
      "source": [
        "#training data is ready\n",
        "celsius_q    = np.array([-40, -10,  0,  8, 15, 22,  38],  dtype=float) #input variables taking as celsius\n",
        "fahrenheit_a = np.array([-40,  14, 32, 46, 59, 72, 100],  dtype=float) #the actual output variables as fahrenheits\n",
        "for i,c in enumerate(celsius_q):\n",
        "  print(\"{} degrees Celsius = {} degrees Fahrenheit\".format(c, fahrenheit_a[i])) # enumarate for having a count and a value from the iteration"
      ],
      "metadata": {
        "colab": {
          "base_uri": "https://localhost:8080/"
        },
        "id": "M3ozk0Wpfd5p",
        "outputId": "0072ed6e-cba0-44c3-990b-87aa89feafa9"
      },
      "execution_count": 16,
      "outputs": [
        {
          "output_type": "stream",
          "name": "stdout",
          "text": [
            "-40.0 degrees Celsius = -40.0 degrees Fahrenheit\n",
            "-10.0 degrees Celsius = 14.0 degrees Fahrenheit\n",
            "0.0 degrees Celsius = 32.0 degrees Fahrenheit\n",
            "8.0 degrees Celsius = 46.0 degrees Fahrenheit\n",
            "15.0 degrees Celsius = 59.0 degrees Fahrenheit\n",
            "22.0 degrees Celsius = 72.0 degrees Fahrenheit\n",
            "38.0 degrees Celsius = 100.0 degrees Fahrenheit\n"
          ]
        }
      ]
    },
    {
      "cell_type": "markdown",
      "source": [
        "create a model"
      ],
      "metadata": {
        "id": "G6-7_w-qgKmD"
      }
    },
    {
      "cell_type": "markdown",
      "source": [
        "#Dense a layer that is deeply connected with its preceding layer\n",
        " #keras is used to build the machine kearning model\n",
        "\n",
        " #input_shape is 1 dimentional array with 1 member \n",
        " #units=1 the number of nueron in the layes, try to define how many internal variables, the layer has try to learn to solve the problem"
      ],
      "metadata": {
        "id": "EUzX1xRWPUXK"
      }
    },
    {
      "cell_type": "code",
      "source": [
        "l0=tf.keras.layers.Dense(units=1, input_shape=[1])"
      ],
      "metadata": {
        "id": "-gKBgR_2f0m_"
      },
      "execution_count": 17,
      "outputs": []
    },
    {
      "cell_type": "markdown",
      "source": [
        "assemble layers into the model"
      ],
      "metadata": {
        "id": "hJ5g68vhh1Ni"
      }
    },
    {
      "cell_type": "markdown",
      "source": [
        "#Sequential basically takes the list of layers and then specifying the calculation orders"
      ],
      "metadata": {
        "id": "jXvYfB6EPfdJ"
      }
    },
    {
      "cell_type": "code",
      "source": [
        "model=tf.keras.Sequential([l0]) #model is ready and it takes only one layer l0"
      ],
      "metadata": {
        "id": "yCZIby7Yh3vP"
      },
      "execution_count": 18,
      "outputs": []
    },
    {
      "cell_type": "markdown",
      "source": [
        "Before training, the model has to be compiled. When compiled for training, the model is given\n",
        "\n",
        "compile the model with loss and optimizer functions\n",
        "\n",
        "\n",
        "1. loss f: how far off predictions are from desired output, basically calculates the gap between actual output and desired output\n",
        "\n",
        "\n",
        "2. optimizer: adjusting internal values to reduce loss, basically it      directs how weights should be adjusted"
      ],
      "metadata": {
        "id": "l5k_JFqiibno"
      }
    },
    {
      "cell_type": "markdown",
      "source": [
        "here loss uses the \"mean_squared_error\" where the optimizer uses the function Adam and the optizer need to know the learning rate\n",
        " \n",
        " \n",
        "  here the learning rate is 0.1, if the value is too small the in take too mane iterartions and if the value is high then the accuracy goes down"
      ],
      "metadata": {
        "id": "FUFG4TBDPmO4"
      }
    },
    {
      "cell_type": "code",
      "source": [
        " #default value 0.001(most commonly used learning rate) \n",
        "model.compile(loss=\"mean_squared_error\", optimizer=tf.keras.optimizers.Adam(0.1))"
      ],
      "metadata": {
        "id": "vvReHQekjEdq"
      },
      "execution_count": 19,
      "outputs": []
    },
    {
      "cell_type": "markdown",
      "source": [
        "#Train the model by fit method"
      ],
      "metadata": {
        "id": "Tmw6oeWskf2_"
      }
    },
    {
      "cell_type": "markdown",
      "source": [
        "1.fit is basically used to calculate the loss at each point and try to solve this problem\n",
        "\n",
        "\n",
        "2.epochs basically suggest how many times the cycle should be run\n",
        "\n",
        "3.verbose argument control how much output the method produces"
      ],
      "metadata": {
        "id": "KmP8iGuuPvyt"
      }
    },
    {
      "cell_type": "code",
      "source": [
        "history = model.fit(celsius_q, fahrenheit_a, epochs=500, verbose=False)\n",
        "print(\"Finished training the model\")"
      ],
      "metadata": {
        "colab": {
          "base_uri": "https://localhost:8080/"
        },
        "id": "rfp-8qKQki19",
        "outputId": "801dd5fa-97f9-43f7-cfec-85a817fe097c"
      },
      "execution_count": 20,
      "outputs": [
        {
          "output_type": "stream",
          "name": "stdout",
          "text": [
            "Finished training the model\n"
          ]
        }
      ]
    },
    {
      "cell_type": "markdown",
      "source": [
        "#Display training stats"
      ],
      "metadata": {
        "id": "sWkcOWx-l6U_"
      }
    },
    {
      "cell_type": "code",
      "source": [
        "#plotting the model\n",
        "import matplotlib.pyplot as plt\n",
        "\n",
        "plt.xlabel('Epoch Number')\n",
        "\n",
        "plt.ylabel(\"Loss Magnitude\")\n",
        "\n",
        "plt.plot(history.history['loss'])"
      ],
      "metadata": {
        "colab": {
          "base_uri": "https://localhost:8080/",
          "height": 296
        },
        "id": "ZkRtt_0uiI99",
        "outputId": "3b529084-b871-44f2-ba89-806bae1390be"
      },
      "execution_count": 21,
      "outputs": [
        {
          "output_type": "execute_result",
          "data": {
            "text/plain": [
              "[<matplotlib.lines.Line2D at 0x7f6c5cf2ae10>]"
            ]
          },
          "metadata": {},
          "execution_count": 21
        },
        {
          "output_type": "display_data",
          "data": {
            "text/plain": [
              "<Figure size 432x288 with 1 Axes>"
            ],
            "image/png": "[encoded data removed]"
          },
          "metadata": {
            "needs_background": "light"
          }
        }
      ]
    },
    {
      "cell_type": "markdown",
      "source": [
        "#Now use the model to predict values"
      ],
      "metadata": {
        "id": "CqJtEiXlm8Gi"
      }
    },
    {
      "cell_type": "code",
      "source": [
        "print(model.predict([100.0]))"
      ],
      "metadata": {
        "colab": {
          "base_uri": "https://localhost:8080/"
        },
        "id": "TzK2XCXXeVKO",
        "outputId": "ad12b8e8-be28-4d12-f914-013c33925ac4"
      },
      "execution_count": 22,
      "outputs": [
        {
          "output_type": "stream",
          "name": "stdout",
          "text": [
            "1/1 [==============================] - 0s 43ms/step\n",
            "[[211.33823]]\n"
          ]
        }
      ]
    },
    {
      "cell_type": "code",
      "source": [
        "print(\"These are the layer variables: {}\".format(l0.get_weights()))"
      ],
      "metadata": {
        "colab": {
          "base_uri": "https://localhost:8080/"
        },
        "id": "C10lvcr7ep_A",
        "outputId": "6c58bc7d-77c0-49a3-804a-59cf44a0dda0"
      },
      "execution_count": 23,
      "outputs": [
        {
          "output_type": "stream",
          "name": "stdout",
          "text": [
            "These are the layer variables: [array([[1.8201618]], dtype=float32), array([29.322054], dtype=float32)]\n"
          ]
        }
      ]
    },
    {
      "cell_type": "code",
      "source": [
        "l0 = tf.keras.layers.Dense(units=4, input_shape=[1])\n",
        "\n",
        "l1 = tf.keras.layers.Dense(units=4)\n",
        "\n",
        "l2 = tf.keras.layers.Dense(units=1)\n",
        "\n",
        "model = tf.keras.Sequential([l0, l1, l2])\n",
        "\n",
        "model.compile(loss='mean_squared_error', optimizer=tf.keras.optimizers.Adam(0.1))\n",
        "\n",
        "model.fit(celsius_q, fahrenheit_a, epochs=500, verbose=False)\n",
        "\n",
        "print(\"Finished training the model\")\n",
        "\n",
        "print(model.predict([100.0]))\n",
        "\n",
        "print(\"Model predicts that 100 degrees Celsius is: {} degrees Fahrenheit\".format(model.predict([100.0])))\n",
        "\n",
        "print(\"These are the l0 variables: {}\".format(l0.get_weights()))\n",
        "\n",
        "print(\"These are the l1 variables: {}\".format(l1.get_weights()))\n",
        "\n",
        "print(\"These are the l2 variables: {}\".format(l2.get_weights()))"
      ],
      "metadata": {
        "colab": {
          "base_uri": "https://localhost:8080/"
        },
        "id": "WALg9vBXerwl",
        "outputId": "58f1839f-0afa-41f6-ca0b-f192bb085de7"
      },
      "execution_count": 24,
      "outputs": [
        {
          "output_type": "stream",
          "name": "stdout",
          "text": [
            "Finished training the model\n",
            "1/1 [==============================] - 0s 49ms/step\n",
            "[[211.74744]]\n",
            "1/1 [==============================] - 0s 22ms/step\n",
            "Model predicts that 100 degrees Celsius is: [[211.74744]] degrees Fahrenheit\n",
            "These are the l0 variables: [array([[-0.24197142,  0.04765558,  0.69726676,  0.31881413]],\n",
            "      dtype=float32), array([-3.454754 ,  3.1618667,  3.717437 , -1.2131882], dtype=float32)]\n",
            "These are the l1 variables: [array([[ 1.0476719 ,  0.92868656, -1.0913581 , -0.7251778 ],\n",
            "       [-0.7178953 , -0.48241884, -0.16988352, -0.16281626],\n",
            "       [-0.9964079 , -0.64993435, -0.5844459 ,  0.14758001],\n",
            "       [ 0.04952291,  0.48917502,  0.5059006 ,  0.1126531 ]],\n",
            "      dtype=float32), array([-3.619912 , -3.2861972, -2.0930343,  2.2224336], dtype=float32)]\n",
            "These are the l2 variables: [array([[-1.2106495 ],\n",
            "       [-0.9478918 ],\n",
            "       [-0.1692569 ],\n",
            "       [ 0.36780283]], dtype=float32), array([3.4486444], dtype=float32)]\n"
          ]
        }
      ]
    },
    {
      "cell_type": "markdown",
      "source": [
        "##Improve the model with added data"
      ],
      "metadata": {
        "id": "KDRMUqTpQ3nV"
      }
    },
    {
      "cell_type": "code",
      "source": [
        "celsius_q    = np.array([-50,-40,-15,-10, 0,  8,10,12, 15, 22, 25,30,35, 38,80,115,120,125,135,140,145,150,155,160,162,164,166,168,170],  dtype=float) #input variables taking as celsius\n",
        "fahrenheit_a = np.array([-58,-40,5, 14, 32, 46,50,53, 59, 72,77,86,95, 100,176,239,248,257,275,284,293,302,311,320,324,327,331,334,338],  dtype=float) #the actual output variables as fahrenheits\n",
        "for i,c in enumerate(celsius_q):\n",
        "  print(\"{} degrees Celsius = {} degrees Fahrenheit\".format(c, fahrenheit_a[i])) # enumarate for having a count and a value from the iteration"
      ],
      "metadata": {
        "colab": {
          "base_uri": "https://localhost:8080/"
        },
        "id": "D4ML6y8WQ8rG",
        "outputId": "b3d1392a-2457-4df9-a188-78c7255bac64"
      },
      "execution_count": 46,
      "outputs": [
        {
          "output_type": "stream",
          "name": "stdout",
          "text": [
            "-50.0 degrees Celsius = -58.0 degrees Fahrenheit\n",
            "-40.0 degrees Celsius = -40.0 degrees Fahrenheit\n",
            "-15.0 degrees Celsius = 5.0 degrees Fahrenheit\n",
            "-10.0 degrees Celsius = 14.0 degrees Fahrenheit\n",
            "0.0 degrees Celsius = 32.0 degrees Fahrenheit\n",
            "8.0 degrees Celsius = 46.0 degrees Fahrenheit\n",
            "10.0 degrees Celsius = 50.0 degrees Fahrenheit\n",
            "12.0 degrees Celsius = 53.0 degrees Fahrenheit\n",
            "15.0 degrees Celsius = 59.0 degrees Fahrenheit\n",
            "22.0 degrees Celsius = 72.0 degrees Fahrenheit\n",
            "25.0 degrees Celsius = 77.0 degrees Fahrenheit\n",
            "30.0 degrees Celsius = 86.0 degrees Fahrenheit\n",
            "35.0 degrees Celsius = 95.0 degrees Fahrenheit\n",
            "38.0 degrees Celsius = 100.0 degrees Fahrenheit\n",
            "80.0 degrees Celsius = 176.0 degrees Fahrenheit\n",
            "115.0 degrees Celsius = 239.0 degrees Fahrenheit\n",
            "120.0 degrees Celsius = 248.0 degrees Fahrenheit\n",
            "125.0 degrees Celsius = 257.0 degrees Fahrenheit\n",
            "135.0 degrees Celsius = 275.0 degrees Fahrenheit\n",
            "140.0 degrees Celsius = 284.0 degrees Fahrenheit\n",
            "145.0 degrees Celsius = 293.0 degrees Fahrenheit\n",
            "150.0 degrees Celsius = 302.0 degrees Fahrenheit\n",
            "155.0 degrees Celsius = 311.0 degrees Fahrenheit\n",
            "160.0 degrees Celsius = 320.0 degrees Fahrenheit\n",
            "162.0 degrees Celsius = 324.0 degrees Fahrenheit\n",
            "164.0 degrees Celsius = 327.0 degrees Fahrenheit\n",
            "166.0 degrees Celsius = 331.0 degrees Fahrenheit\n",
            "168.0 degrees Celsius = 334.0 degrees Fahrenheit\n",
            "170.0 degrees Celsius = 338.0 degrees Fahrenheit\n"
          ]
        }
      ]
    },
    {
      "cell_type": "code",
      "source": [
        "l1=tf.keras.layers.Dense(units=1, input_shape=[1])"
      ],
      "metadata": {
        "id": "VWsqdv_wWzny"
      },
      "execution_count": 47,
      "outputs": []
    },
    {
      "cell_type": "code",
      "source": [
        "model=tf.keras.Sequential([l1]) #model is ready and it takes only one layer l1"
      ],
      "metadata": {
        "id": "4jTafEwrW28b"
      },
      "execution_count": 48,
      "outputs": []
    },
    {
      "cell_type": "code",
      "source": [
        "model.compile(loss=\"mean_squared_error\", optimizer=tf.keras.optimizers.Adam(0.1))"
      ],
      "metadata": {
        "id": "8t6hvThLXBpP"
      },
      "execution_count": 49,
      "outputs": []
    },
    {
      "cell_type": "code",
      "source": [
        "history = model.fit(celsius_q, fahrenheit_a, epochs=1500, verbose=False)\n",
        "print(\"Finished training the model\")"
      ],
      "metadata": {
        "colab": {
          "base_uri": "https://localhost:8080/"
        },
        "id": "2GXaFObVXQAp",
        "outputId": "c4266038-55a2-4890-d66f-f33fbcb66cf1"
      },
      "execution_count": 56,
      "outputs": [
        {
          "output_type": "stream",
          "name": "stdout",
          "text": [
            "Finished training the model\n"
          ]
        }
      ]
    },
    {
      "cell_type": "code",
      "source": [
        "#plotting the model\n",
        "import matplotlib.pyplot as plt\n",
        "\n",
        "plt.xlabel('Epoch Number')\n",
        "\n",
        "plt.ylabel(\"Loss Magnitude\")\n",
        "\n",
        "plt.plot(history.history['loss'])"
      ],
      "metadata": {
        "colab": {
          "base_uri": "https://localhost:8080/",
          "height": 296
        },
        "id": "ifewxMWoXPyk",
        "outputId": "7f430819-6d83-43b5-da6a-146f7b4c0878"
      },
      "execution_count": 57,
      "outputs": [
        {
          "output_type": "execute_result",
          "data": {
            "text/plain": [
              "[<matplotlib.lines.Line2D at 0x7f6c5d495710>]"
            ]
          },
          "metadata": {},
          "execution_count": 57
        },
        {
          "output_type": "display_data",
          "data": {
            "text/plain": [
              "<Figure size 432x288 with 1 Axes>"
            ],
            "image/png": "[encoded data removed]"
          },
          "metadata": {
            "needs_background": "light"
          }
        }
      ]
    },
    {
      "cell_type": "code",
      "source": [
        "print(model.predict([100.0]))"
      ],
      "metadata": {
        "colab": {
          "base_uri": "https://localhost:8080/"
        },
        "id": "EoseTkOMXYJm",
        "outputId": "0a6ffaad-72f6-44ce-fba1-07f576ee8ce0"
      },
      "execution_count": 58,
      "outputs": [
        {
          "output_type": "stream",
          "name": "stdout",
          "text": [
            "1/1 [==============================] - 0s 26ms/step\n",
            "[[211.97401]]\n"
          ]
        }
      ]
    },
    {
      "cell_type": "markdown",
      "source": [
        "1.At first I am adding many more data and try to find a better result. I have seen the value went far from the 212 then increase the value of epoch from 500 to 1500 and see the effect so here the value is 211.9711(almost) 212.. \n",
        "\n",
        "\n",
        "As we know the more epoch you have the more it going into data\n",
        "\n",
        "2.Then again increase the data a little bit and reduce the epoch to 1000\n",
        "and we get a more better result as 211.97363\n",
        "\n",
        "3. Again increasing some data points and set epoch=1000 \n",
        "   (give worse result)\n",
        "4. reduce epoch to 500(a slight better)\n",
        "5. increase epoch to 1500 give great result from the above trials\n",
        "    (211.97401)"
      ],
      "metadata": {
        "id": "xvhfVwHHXsV8"
      }
    },
    {
      "cell_type": "markdown",
      "source": [
        "#conclussion\n",
        "\n"
      ],
      "metadata": {
        "id": "kF3kMgW6bCFf"
      }
    },
    {
      "cell_type": "markdown",
      "source": [
        "1.More increase in the data the accuracy will increase.\n",
        "\n",
        "2.with increase in the epoch value also the accuracy can increase(by trail and error with the iterations)."
      ],
      "metadata": {
        "id": "VT9--cp9bGnm"
      }
    }
  ]
}