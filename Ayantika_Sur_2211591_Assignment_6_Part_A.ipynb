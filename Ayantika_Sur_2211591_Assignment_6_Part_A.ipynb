{
  "nbformat": 4,
  "nbformat_minor": 0,
  "metadata": {
    "colab": {
      "provenance": []
    },
    "kernelspec": {
      "name": "python3",
      "display_name": "Python 3"
    },
    "language_info": {
      "name": "python"
    }
  },
  "cells": [
    {
      "cell_type": "markdown",
      "source": [
        "# **MNIST - Digit Recognizer**\n",
        "MNIST is a classic dataset of handwritten images has served as the basis for benchmarking classification algorithms.\n",
        "\n",
        "Our goal here is to train the machine with humongous no. of images of handwritten digits and evaluating how well our model can classify them correctly."
      ],
      "metadata": {
        "id": "fhuW_XODIZ4q"
      }
    },
    {
      "cell_type": "markdown",
      "source": [
        "# **Importing Libraries**"
      ],
      "metadata": {
        "id": "A1e3llVZ4ghs"
      }
    },
    {
      "cell_type": "code",
      "execution_count": 26,
      "metadata": {
        "id": "cda-oxhI_JX-"
      },
      "outputs": [],
      "source": [
        "import numpy as np                 # advanced math library for linear algebra\n",
        "import matplotlib.pyplot as plt    # MATLAB like plotting, routines for data processing, CSV file I/O (e.g. pd.read_csv)\n",
        "import random                      # For generating random number  \n",
        "%matplotlib inline\n",
        "#MNIST dataset is included in keras\n",
        "from keras.datasets import mnist   #Importing the dataset   \n",
        "\n",
        "#A Sequential model is appropriate for a plain stack of layers where each layer has exactly one input tensor and one output tensor.\n",
        "from keras.models import Sequential   \n",
        "\n",
        "from keras.layers.core import Dense, Dropout, Activation #types of layers to be build\n",
        "from keras.utils import np_utils #numpy realted tools, here used for one hot encoding"
      ]
    },
    {
      "cell_type": "markdown",
      "source": [
        "# **Loading and Splitting the Dataset**"
      ],
      "metadata": {
        "id": "QRoGod7G4TYh"
      }
    },
    {
      "cell_type": "markdown",
      "source": [
        "MNIST dataset has total 70000 data is splitted in 60000 (28x28 px) dataset is used as training images and 10000(28x28 px) data is used as test images."
      ],
      "metadata": {
        "id": "9-avqPfE41qZ"
      }
    },
    {
      "cell_type": "code",
      "source": [
        "(X_train, y_train), (X_test, y_test) = mnist.load_data() #loading the dataset and splitting in training and test set\n",
        "#printing the shape of the training and test set\n",
        "print(\"X_train shape\", X_train.shape)\n",
        "print(\"y_train shape\", y_train.shape)\n",
        "print(\"X_test shape\",X_test.shape)\n",
        "print(\"y_test shape\", y_test.shape)"
      ],
      "metadata": {
        "colab": {
          "base_uri": "https://localhost:8080/"
        },
        "id": "PgfM0OAl_X6J",
        "outputId": "11b2d9b4-e269-40c8-d5e7-18e0c7c205a2"
      },
      "execution_count": 27,
      "outputs": [
        {
          "output_type": "stream",
          "name": "stdout",
          "text": [
            "X_train shape (60000, 28, 28)\n",
            "y_train shape (60000,)\n",
            "X_test shape (10000, 28, 28)\n",
            "y_test shape (10000,)\n"
          ]
        }
      ]
    },
    {
      "cell_type": "markdown",
      "source": [
        "**Printing some sample images from the training set**"
      ],
      "metadata": {
        "id": "0M0LBQqW6fxa"
      }
    },
    {
      "cell_type": "code",
      "source": [
        "plt.rcParams['figure.figsize'] = (9,9) \n",
        "#Each time Matplotlib loads, it defines a runtime configuration (rc) containing the default styles for every plot element you create. This configuration can be adjusted at any time using the plt.\n",
        "for i in range(9):\n",
        "  plt.subplot(3,3,i+1) #subplot as the name suggests creates more than one plots in same output window\n",
        "  num = random.randint(0,len(X_train)) #randint from random library is used for randomly choosing the number within the length dataset\n",
        "  plt.imshow(X_train[num], cmap = 'gray', interpolation = 'none')#plotting the randomly chosen training data from the training set \n",
        "  plt.title(\"Class {}\".format(y_train[num]))#title\n",
        "\n",
        "plt.tight_layout() #adjusting the padding between and around subplots\n"
      ],
      "metadata": {
        "colab": {
          "base_uri": "https://localhost:8080/",
          "height": 657
        },
        "id": "TOq44bz4_c4N",
        "outputId": "01ad71c1-1e61-4ec9-c7b5-f33c2780f0e0"
      },
      "execution_count": 28,
      "outputs": [
        {
          "output_type": "display_data",
          "data": {
            "text/plain": [
              "<Figure size 648x648 with 9 Axes>"
            ],
            "image/png": "[encoded data removed]"
          },
          "metadata": {
            "needs_background": "light"
          }
        }
      ]
    },
    {
      "cell_type": "code",
      "source": [
        "# just a little function for pretty printing a matrix\n",
        "def matprint(mat, fmt=\"g\"):\n",
        "    col_maxes = [max([len((\"{:\"+fmt+\"}\").format(x)) for x in col]) for col in mat.T]\n",
        "    for x in mat:\n",
        "        for i, y in enumerate(x):\n",
        "            print((\"{:\"+str(col_maxes[i])+fmt+\"}\").format(y), end=\"  \")\n",
        "        print(\"\")\n",
        "# now print!        \n",
        "matprint(X_train[num])"
      ],
      "metadata": {
        "colab": {
          "base_uri": "https://localhost:8080/"
        },
        "id": "EEYnYSQI_gqD",
        "outputId": "6872e285-2c15-437b-f3b9-6afc0b92549f"
      },
      "execution_count": 29,
      "outputs": [
        {
          "output_type": "stream",
          "name": "stdout",
          "text": [
            "0  0  0  0  0  0  0  0  0    0    0    0    0    0    0    0    0    0    0    0    0  0  0  0  0  0  0  0  \n",
            "0  0  0  0  0  0  0  0  0    0    0    0    0    0    0    0    0    0    0    0    0  0  0  0  0  0  0  0  \n",
            "0  0  0  0  0  0  0  0  0    0    0    0    0    0    0    0    0    0    0    0    0  0  0  0  0  0  0  0  \n",
            "0  0  0  0  0  0  0  0  0    0    0    0    0    0    0    0    0    0    0    0    0  0  0  0  0  0  0  0  \n",
            "0  0  0  0  0  0  0  0  0    0    0    0    0    0    0    0    0    0    0    0    0  0  0  0  0  0  0  0  \n",
            "0  0  0  0  0  0  0  0  0    0    0    0    0    0    0    0    0    0    0    0    0  0  0  0  0  0  0  0  \n",
            "0  0  0  0  0  0  0  0  0    0    0   11   51  113  193  254  253  193  152   21    0  0  0  0  0  0  0  0  \n",
            "0  0  0  0  0  0  0  0  0    0    0  132  252  253  252  253  252  253  252  183    0  0  0  0  0  0  0  0  \n",
            "0  0  0  0  0  0  0  0  0    0   82  254  253  244  203  183  102  173  253  254  112  0  0  0  0  0  0  0  \n",
            "0  0  0  0  0  0  0  0  0   82  243  253  212  122    0    0    0   10  212  253  151  0  0  0  0  0  0  0  \n",
            "0  0  0  0  0  0  0  0  0  254  253  203   20    0    0    0    0   11  213  254  151  0  0  0  0  0  0  0  \n",
            "0  0  0  0  0  0  0  0  0  253  252  102    0    0    0    0    0  132  252  253  151  0  0  0  0  0  0  0  \n",
            "0  0  0  0  0  0  0  0  0  254  253  132   10    0    0    0  123  254  253  224   61  0  0  0  0  0  0  0  \n",
            "0  0  0  0  0  0  0  0  0  253  252  253  212  203  203  203  243  253  252  162    0  0  0  0  0  0  0  0  \n",
            "0  0  0  0  0  0  0  0  0  163  243  254  253  254  253  254  253  254  131    0    0  0  0  0  0  0  0  0  \n",
            "0  0  0  0  0  0  0  0  0    0   40  112  151  131  212  253  252  172   10    0    0  0  0  0  0  0  0  0  \n",
            "0  0  0  0  0  0  0  0  0    0    0    0    0   72  253  254  233   41    0    0    0  0  0  0  0  0  0  0  \n",
            "0  0  0  0  0  0  0  0  0    0    0    0   41  233  252  253   70    0    0    0    0  0  0  0  0  0  0  0  \n",
            "0  0  0  0  0  0  0  0  0    0    0   11  173  254  253  183    0    0    0    0    0  0  0  0  0  0  0  0  \n",
            "0  0  0  0  0  0  0  0  0    0    0  132  252  253  252   61    0    0    0    0    0  0  0  0  0  0  0  0  \n",
            "0  0  0  0  0  0  0  0  0    0    0  173  253  254  192    0    0    0    0    0    0  0  0  0  0  0  0  0  \n",
            "0  0  0  0  0  0  0  0  0    0   41  253  252  253  111    0    0    0    0    0    0  0  0  0  0  0  0  0  \n",
            "0  0  0  0  0  0  0  0  0    0  163  254  253  203    0    0    0    0    0    0    0  0  0  0  0  0  0  0  \n",
            "0  0  0  0  0  0  0  0  0   21  223  253  252   81    0    0    0    0    0    0    0  0  0  0  0  0  0  0  \n",
            "0  0  0  0  0  0  0  0  0  255  253  254  131    0    0    0    0    0    0    0    0  0  0  0  0  0  0  0  \n",
            "0  0  0  0  0  0  0  0  0  253  252  131   10    0    0    0    0    0    0    0    0  0  0  0  0  0  0  0  \n",
            "0  0  0  0  0  0  0  0  0    0    0    0    0    0    0    0    0    0    0    0    0  0  0  0  0  0  0  0  \n",
            "0  0  0  0  0  0  0  0  0    0    0    0    0    0    0    0    0    0    0    0    0  0  0  0  0  0  0  0  \n"
          ]
        }
      ]
    },
    {
      "cell_type": "markdown",
      "source": [
        "# **Data (Image) Processing**"
      ],
      "metadata": {
        "id": "xnrie2P4-0Yc"
      }
    },
    {
      "cell_type": "markdown",
      "source": [
        "### **Flatenning**\n",
        "Each images are flatenned into a vector"
      ],
      "metadata": {
        "id": "G5cgL_SF-7D0"
      }
    },
    {
      "cell_type": "code",
      "source": [
        "#flatenning the image 2D Array to 1D Array\n",
        "X_train = X_train.reshape(60000, 784)   # reshape 60,000 28x28 matrices into 60000 784-length vector\n",
        "X_test = X_test.reshape(10000, 784)     # reshape 10,000 28x28 matrices into 10000 784-length vector\n",
        "#Before applying any normalization, the type of the entire dataframe must be casted from 'str' to 'float' as far as it contains only numerical values.\n",
        "X_train = X_train.astype('float32') #changing the data to 32 bit float\n",
        "X_test = X_test.astype('float32') #changing the data to 32 bit float\n",
        "\n"
      ],
      "metadata": {
        "id": "kSwjdq59_n-a"
      },
      "execution_count": 30,
      "outputs": []
    },
    {
      "cell_type": "markdown",
      "source": [
        "### **Normalization**\n",
        "Here we will follow min-max standarization (since pixel cant take negative values so we cant us standard scalar process).\n",
        "We want to normalize the input data in range 0-1 rather than 0-255.\n",
        "\n",
        "**Data normalization** is an important step which ensures that each input parameter (pixel, in this case) has a similar data distribution. This makes convergence faster while training the network."
      ],
      "metadata": {
        "id": "SOFUXLC2-sAn"
      }
    },
    {
      "cell_type": "code",
      "source": [
        "X_train /= 255   #1byte = 8 bits. (Image is a 2D array) 2^8 =256, so 256 different values can be fit into 1 (0-255)\n",
        "X_test /= 255   # normalize each value for each pixel "
      ],
      "metadata": {
        "id": "zGnx08dx-rTI"
      },
      "execution_count": 31,
      "outputs": []
    },
    {
      "cell_type": "markdown",
      "source": [
        "**Printing the new shape of the dataset**"
      ],
      "metadata": {
        "id": "AMIM08KmG1oD"
      }
    },
    {
      "cell_type": "code",
      "source": [
        "print(\"Training matrix shape\", X_train.shape) #we will get 1D vectors\n",
        "print(\"Testing matrix shape\", X_test.shape)   "
      ],
      "metadata": {
        "colab": {
          "base_uri": "https://localhost:8080/"
        },
        "id": "aEhcoF9p_sda",
        "outputId": "943f8782-dd4a-4f0c-8310-3e57ede5d1a9"
      },
      "execution_count": 32,
      "outputs": [
        {
          "output_type": "stream",
          "name": "stdout",
          "text": [
            "Training matrix shape (60000, 784)\n",
            "Testing matrix shape (10000, 784)\n"
          ]
        }
      ]
    },
    {
      "cell_type": "markdown",
      "source": [
        "**Importance of One Hot Encoding**\n",
        "\n",
        "It is a part of Data Preprocessing. In Deep Learning model to feed the model with data that enables it to make a classification decision, we would require to perform One Hot Encoding during data processing."
      ],
      "metadata": {
        "id": "AcCNS5izJ5kO"
      }
    },
    {
      "cell_type": "code",
      "source": [
        "nb_classes = 10 # total number of unique digits is 10,i.e., 0-9\n",
        "\n",
        "Y_train = np_utils.to_categorical(y_train, nb_classes) #it is used to convert array of labeled data(from 0 to nb_classes - 1 ) to one-hot vector. \n",
        "Y_test = np_utils.to_categorical(y_test, nb_classes)"
      ],
      "metadata": {
        "id": "V1Pirwhf_v8y"
      },
      "execution_count": 33,
      "outputs": []
    },
    {
      "cell_type": "markdown",
      "source": [
        " **Model Type: Sequential**\n",
        "\n",
        "There are three ways to create Keras models:\n",
        "Sequential Model, Functional API, Model Subclassing \n",
        "\n",
        "The **Sequential Model** in Keras allows us to create models layer-by-layer for most problems. It is limited to single-input, single-output stacks of layers.\n",
        "\n",
        "The Sequential model API is a way of creating deep learning models where an instance of the Sequential class is created and model layers are created and added to it."
      ],
      "metadata": {
        "id": "Kl7aklg4y89R"
      }
    },
    {
      "cell_type": "code",
      "source": [
        "# The Sequential model is a linear stack of layers\n",
        "model = Sequential()"
      ],
      "metadata": {
        "id": "xVrV-K8l_0Iu"
      },
      "execution_count": 34,
      "outputs": []
    },
    {
      "cell_type": "markdown",
      "source": [
        "# **The First Hidden Layer**"
      ],
      "metadata": {
        "id": "84a31wkDLj_2"
      }
    },
    {
      "cell_type": "code",
      "source": [
        "# The first hidden layer is a set of 512 nodes (artifical neurons), [2^9=512, no. of neurons are generally choosen in 2^x form]\n",
        "# Dense Layer is simple layer of neurons in which each neuron receives input from all the neurons of previous layer\n",
        "model.add(Dense(512, input_shape = (784,))) #adding layers via the .add() method\n",
        "#input_shape must be mentioned for only the first layer because following layers can do automatic shape inference"
      ],
      "metadata": {
        "id": "syKM5G2__3H5"
      },
      "execution_count": 35,
      "outputs": []
    },
    {
      "cell_type": "markdown",
      "source": [
        "**RELU Activation Function**\n",
        "* Activation function decides, whether a neuron should be activated or not by calculating weighted sum and further adding bias with it. \n",
        "* The purpose of the activation function is to introduce non-linearity into the output of a neuron.\n",
        "* **Rectifier function (RELU)** – max(X,0) – take the maximum, anything positive keep that as it is but anything negative make it 0.\n",
        "* It is a piecewise linear function that will output the input directly if it is positive, otherwise, it will output zero. \n",
        "* RELU is such an actiavtion function that preserves the property of  linear function, but is, in fact, a nonlinear function allowing complex relationships in the data to be learned."
      ],
      "metadata": {
        "id": "cHg0GHw4btQH"
      }
    },
    {
      "cell_type": "markdown",
      "source": [
        "![Capture.PNG](data:image/png;base64,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)\n",
        "\n",
        "\n",
        "\n"
      ],
      "metadata": {
        "id": "Ub6543shB9NP"
      }
    },
    {
      "cell_type": "code",
      "source": [
        "model.add(Activation('relu')) #we use ReLU in hidden layer to avoid vanishing gradient problem and better computation performance "
      ],
      "metadata": {
        "id": "hIj0MrFR_-pD"
      },
      "execution_count": 36,
      "outputs": []
    },
    {
      "cell_type": "code",
      "source": [
        "#the machine needs to memorize the pattern not the exact pixels, to do this we do dropouts\n",
        "model.add(Dropout(0.2)) #to prevent the net from overfitting a dropout layer ignores a set of neurons (randomly) \n",
        "#turning off 20% of the neuron chosen randomly\n",
        "#mainly dropout is applied after the non-linear activation function\n",
        "#normal droput range is 0.1 to 0.5 - above 0.5 it is not advisable as it will hamper the learning"
      ],
      "metadata": {
        "id": "hsm7KMj3ADbW"
      },
      "execution_count": 37,
      "outputs": []
    },
    {
      "cell_type": "markdown",
      "source": [
        "# **The Second Hidden Layer**"
      ],
      "metadata": {
        "id": "X3HHOSYSTfuH"
      }
    },
    {
      "cell_type": "code",
      "source": [
        "# Adding Second layer\n",
        "model.add(Dense(512)) #here the input_shape is not required because this layers can do automatic shape inference\n",
        "#instead of each of 512 node receiving 784 input, the model is recieving 512 inputs from the output of 512 node layer\n",
        "model.add(Activation('relu'))#we use ReLU in hidden layer to avoid vanishing gradient problem and better computation performance \n",
        "model.add(Dropout(0.2)) #to prevent the net from overfitting a dropout layer ignores a set of neurons randomly"
      ],
      "metadata": {
        "id": "Synq0951AFX0"
      },
      "execution_count": 38,
      "outputs": []
    },
    {
      "cell_type": "markdown",
      "source": [
        "# **The Final Output Layer**\n",
        "* This is the final hidden layer and should have as many neurons as there are outputs to the classification problem. \n",
        "* As this is a multi-class classification, Multiple neurons, one for each class is used. Here total 10 class are to be classified so no, of neurons taken 10\n"
      ],
      "metadata": {
        "id": "d2DAfS3XVkH9"
      }
    },
    {
      "cell_type": "code",
      "source": [
        "model.add(Dense(10))"
      ],
      "metadata": {
        "id": "aTonWnWUAKsP"
      },
      "execution_count": 39,
      "outputs": []
    },
    {
      "cell_type": "markdown",
      "source": [
        "**Softmax Activation Function**\n",
        "* The softmax function is used as the activation function in the output layer of neural network models that predict a multinomial probability distribution. \n",
        "* softmax is used as the activation function for multi-class classification problems where class membership is required on more than two class labels.\n",
        "* The softmax activation function transforms the raw outputs of the neural network into a vector of probabilities, essentially a probability distribution over the input classes.\n"
      ],
      "metadata": {
        "id": "8tIrVObjbFyz"
      }
    },
    {
      "cell_type": "code",
      "source": [
        "model.add(Activation('softmax'))"
      ],
      "metadata": {
        "id": "QUYFS_lpAOOQ"
      },
      "execution_count": 40,
      "outputs": []
    },
    {
      "cell_type": "markdown",
      "source": [
        "# **Summarize Model**\n",
        " Keras provides a way to summarize a model. The summary is textual and includes information about:\n",
        "\n",
        "      * The layers and their order in the model.\n",
        "      * The output shape of each layer.\n",
        "      * The number of parameters (weights) in each layer.\n",
        "      * The total number of parameters (weights) in the model.\n",
        "\n",
        "\n",
        "\n",
        "\n"
      ],
      "metadata": {
        "id": "b8AaCN6SfuuD"
      }
    },
    {
      "cell_type": "code",
      "source": [
        "# Summary of the model\n",
        "\n",
        "model.summary()"
      ],
      "metadata": {
        "colab": {
          "base_uri": "https://localhost:8080/"
        },
        "id": "qtDKlSoFARAk",
        "outputId": "c648dccd-f084-434d-a0be-24f9507d31f0"
      },
      "execution_count": 41,
      "outputs": [
        {
          "output_type": "stream",
          "name": "stdout",
          "text": [
            "Model: \"sequential_1\"\n",
            "_________________________________________________________________\n",
            " Layer (type)                Output Shape              Param #   \n",
            "=================================================================\n",
            " dense_3 (Dense)             (None, 512)               401920    \n",
            "                                                                 \n",
            " activation_3 (Activation)   (None, 512)               0         \n",
            "                                                                 \n",
            " dropout_2 (Dropout)         (None, 512)               0         \n",
            "                                                                 \n",
            " dense_4 (Dense)             (None, 512)               262656    \n",
            "                                                                 \n",
            " activation_4 (Activation)   (None, 512)               0         \n",
            "                                                                 \n",
            " dropout_3 (Dropout)         (None, 512)               0         \n",
            "                                                                 \n",
            " dense_5 (Dense)             (None, 10)                5130      \n",
            "                                                                 \n",
            " activation_5 (Activation)   (None, 10)                0         \n",
            "                                                                 \n",
            "=================================================================\n",
            "Total params: 669,706\n",
            "Trainable params: 669,706\n",
            "Non-trainable params: 0\n",
            "_________________________________________________________________\n"
          ]
        }
      ]
    },
    {
      "cell_type": "markdown",
      "source": [
        "### **Trainable params** - .\n",
        "Trainable Parameters in general are weights that are learnt during training. They are weight matrices that contribute to model’s predictive power, changed during back-propagation process. \n",
        "### **Non-trainable params** -\n",
        "Non-trainable parameters is the number of weights that are not updated during training with backpropagation.\n",
        "There are mainly two types of non-trainable weights:\n",
        "\n",
        "* The ones that you have chosen to keep constant when training. This means that keras won't update these weights during training at all.\n",
        "* The ones that work like statistics in BatchNormalization layers. They're updated with mean and variance, but they're not \"trained with backpropagation\".\n",
        "\n",
        "Here, weights of all the parameters are  updated during training with backpropagation. "
      ],
      "metadata": {
        "id": "frE3jBbEgflY"
      }
    },
    {
      "cell_type": "markdown",
      "source": [
        "# **Compiling The Model**\n"
      ],
      "metadata": {
        "id": "UNz9tnEOkDrV"
      }
    },
    {
      "cell_type": "markdown",
      "source": [
        "### **The loss function**\n",
        "\n",
        "* It is a critical part of model training: it quantifies how well a model is performing a task by calculating a single number, the loss, from the model output and the desired target.\n",
        "\n",
        "\n",
        "* **Categorical crossentropy** is a loss function that is used in multi-class classification tasks. \n",
        "\n",
        "* These are tasks where an example can only belong to one out of many possible categories, and the model must decide which one.\n",
        "* The cross entropy is a measure of how different is the predicted distribution from the target distribution.\n",
        "\n",
        "### **Optimizer function** -\n",
        " * The optimizer helps to determine how quickly the model learns through gradient descent\n",
        " * The rate at which descends the gradient is called learning rate.\n",
        " * **Adam optimization** is a stochastic gradient descent method that is based on adaptive estimation of first-order and second-order moments.\n",
        " \n",
        "###**Metric**\n",
        " * Calculates how often predictions equal labels.\n",
        "\n",
        "* This metric creates two local variables, total and count that are used to compute the frequency with which y_pred matches y_true. This frequency is ultimately returned as binary accuracy.\n"
      ],
      "metadata": {
        "id": "b-OE2VbuZF8V"
      }
    },
    {
      "cell_type": "code",
      "source": [
        "model.compile(loss = 'categorical_crossentropy', optimizer='adam',\n",
        "              metrics = ['accuracy'])\n"
      ],
      "metadata": {
        "id": "NAQfbGx0AToO"
      },
      "execution_count": 42,
      "outputs": []
    },
    {
      "cell_type": "markdown",
      "source": [
        "# **Training the Model**\n",
        "* We train the model by calling fit method.\n",
        "\n",
        "* During training machine takes in input and weights are decided by computer randomly.\n",
        "\n",
        "* Then it calculates the difference between the actual output and desired output, that we called the loss function. The optimizer function directs the machine how the weights should be adjusted.\n",
        "\n",
        "* The fit method refers this cycle of calcualte --> compare --> adjust.\n",
        "\n",
        "  * Input ---> X_train\n",
        "  * Output --->  Y_train\n",
        "  * Number of times cycle should run ---> epochs,\n",
        "  * Controlling the amount of o/p to be produced ---> verbose"
      ],
      "metadata": {
        "id": "6wqSJUMdz_6t"
      }
    },
    {
      "cell_type": "code",
      "source": [
        "model.fit(X_train, Y_train,\n",
        "          batch_size=128, epochs = 10,\n",
        "          verbose=1)"
      ],
      "metadata": {
        "colab": {
          "base_uri": "https://localhost:8080/"
        },
        "id": "pQys4sFkAX8M",
        "outputId": "34d7ec1e-885a-441c-e572-9b7c3b2ef501"
      },
      "execution_count": 43,
      "outputs": [
        {
          "output_type": "stream",
          "name": "stdout",
          "text": [
            "Epoch 1/10\n",
            "469/469 [==============================] - 7s 14ms/step - loss: 0.2490 - accuracy: 0.9241\n",
            "Epoch 2/10\n",
            "469/469 [==============================] - 6s 14ms/step - loss: 0.0997 - accuracy: 0.9694\n",
            "Epoch 3/10\n",
            "469/469 [==============================] - 6s 13ms/step - loss: 0.0727 - accuracy: 0.9763\n",
            "Epoch 4/10\n",
            "469/469 [==============================] - 6s 14ms/step - loss: 0.0551 - accuracy: 0.9826\n",
            "Epoch 5/10\n",
            "469/469 [==============================] - 6s 14ms/step - loss: 0.0466 - accuracy: 0.9846\n",
            "Epoch 6/10\n",
            "469/469 [==============================] - 6s 14ms/step - loss: 0.0376 - accuracy: 0.9880\n",
            "Epoch 7/10\n",
            "469/469 [==============================] - 6s 13ms/step - loss: 0.0336 - accuracy: 0.9888\n",
            "Epoch 8/10\n",
            "469/469 [==============================] - 6s 14ms/step - loss: 0.0311 - accuracy: 0.9898\n",
            "Epoch 9/10\n",
            "469/469 [==============================] - 6s 14ms/step - loss: 0.0255 - accuracy: 0.9912\n",
            "Epoch 10/10\n",
            "469/469 [==============================] - 6s 14ms/step - loss: 0.0248 - accuracy: 0.9918\n"
          ]
        },
        {
          "output_type": "execute_result",
          "data": {
            "text/plain": [
              "<keras.callbacks.History at 0x7f418c0bca10>"
            ]
          },
          "metadata": {},
          "execution_count": 43
        }
      ]
    },
    {
      "cell_type": "markdown",
      "source": [
        "# **Evaluation of the Model**\n",
        "Evaluation is a process during development of the model to check whether the model is best fit for the given problem and corresponding data. "
      ],
      "metadata": {
        "id": "oTAo-U5t-sfi"
      }
    },
    {
      "cell_type": "code",
      "source": [
        "score=model.evaluate(X_test,Y_test)\n",
        "print('Test score:', score[0])\n",
        "print('Test accuracy:', score[1])"
      ],
      "metadata": {
        "colab": {
          "base_uri": "https://localhost:8080/"
        },
        "id": "u5tu70ZKLVRq",
        "outputId": "f186c7bf-e65a-4688-af0a-ceb13163c0a2"
      },
      "execution_count": 44,
      "outputs": [
        {
          "output_type": "stream",
          "name": "stdout",
          "text": [
            "313/313 [==============================] - 1s 3ms/step - loss: 0.0752 - accuracy: 0.9802\n",
            "Test score: 0.07523590326309204\n",
            "Test accuracy: 0.9801999926567078\n"
          ]
        }
      ]
    },
    {
      "cell_type": "markdown",
      "source": [
        "### **Test Score/Loss Score**\n",
        "It is the sum of errors made for each example in training or validation sets. Loss value implies how poorly or well a model behaves after each iteration of optimization.\n",
        "### **Test Accuracy**\n",
        "The accuracy of a model is usually determined after the model parameters and is calculated in the form of a percentage. It is the measure of how accurate your model's prediction is compared to the true data.\n",
        "\n"
      ],
      "metadata": {
        "id": "OcRi-cFHDN63"
      }
    },
    {
      "cell_type": "markdown",
      "source": [
        "# **Predicting Test Set Data**"
      ],
      "metadata": {
        "id": "pTsADZccDqKV"
      }
    },
    {
      "cell_type": "code",
      "source": [
        "predicted_x = model.predict(X_test) #predicting the test set data\n",
        "predicted_classes = np.argmax(predicted_x, axis = 1) \n",
        "correct_indices = np.nonzero(predicted_classes == y_test)[0]\n",
        "incorrect_indices = np.nonzero(predicted_classes != y_test)[0]"
      ],
      "metadata": {
        "colab": {
          "base_uri": "https://localhost:8080/"
        },
        "id": "mZUIyQlS-DSR",
        "outputId": "79c4c1e4-333a-48f2-e02e-5b52f7851cdb"
      },
      "execution_count": 45,
      "outputs": [
        {
          "output_type": "stream",
          "name": "stdout",
          "text": [
            "313/313 [==============================] - 1s 3ms/step\n"
          ]
        }
      ]
    },
    {
      "cell_type": "code",
      "source": [
        "plt.figure() #plotting the actual class and image and the corresponding predicted class\n",
        "for i, correct in enumerate(correct_indices[:9]):\n",
        "    plt.subplot(3,3,i+1)\n",
        "    plt.imshow(X_test[correct].reshape(28,28), cmap='gray', interpolation='none')\n",
        "    plt.title(\"Predicted {}, Class {}\".format(predicted_classes[correct], y_test[correct]))\n",
        "    \n",
        "plt.tight_layout()\n",
        "    \n",
        "plt.figure()\n",
        "for i, incorrect in enumerate(incorrect_indices[:9]):\n",
        "    plt.subplot(3,3,i+1)\n",
        "    plt.imshow(X_test[incorrect].reshape(28,28), cmap='gray', interpolation='none')\n",
        "    plt.title(\"Predicted {}, Class {}\".format(predicted_classes[incorrect], y_test[incorrect]))\n",
        "    \n",
        "plt.tight_layout()"
      ],
      "metadata": {
        "colab": {
          "base_uri": "https://localhost:8080/",
          "height": 1000
        },
        "id": "uZ7lHjBs-E95",
        "outputId": "697af24d-22d2-4474-869e-33dbcd6b37c9"
      },
      "execution_count": 46,
      "outputs": [
        {
          "output_type": "display_data",
          "data": {
            "text/plain": [
              "<Figure size 648x648 with 9 Axes>"
            ],
            "image/png": "[encoded data removed]"
          },
          "metadata": {
            "needs_background": "light"
          }
        },
        {
          "output_type": "display_data",
          "data": {
            "text/plain": [
              "<Figure size 648x648 with 9 Axes>"
            ],
            "image/png": "[encoded data removed]"
          },
          "metadata": {
            "needs_background": "light"
          }
        }
      ]
    },
    {
      "cell_type": "markdown",
      "source": [
        "# **Experimenting with Number of Batch Size**\n",
        "To determine the optimum batch size, it is recommended trying smaller batch sizes first (32 or 64), also keeping in mind that small batch sizes require small learning rates. The number of batch sizes should be a power of 2 to take full advantage of the GPUs processing."
      ],
      "metadata": {
        "id": "6z75Ao2IHu9N"
      }
    },
    {
      "cell_type": "markdown",
      "source": [
        "## **Decreasing the Batch Size**"
      ],
      "metadata": {
        "id": "-1_xlA7_H-uR"
      }
    },
    {
      "cell_type": "code",
      "source": [
        "model.fit(X_train, Y_train,\n",
        "          batch_size=32, epochs = 10,\n",
        "          verbose=1)"
      ],
      "metadata": {
        "colab": {
          "base_uri": "https://localhost:8080/"
        },
        "id": "H209s3q-IGId",
        "outputId": "929547ec-8cf5-48d6-e196-90c38fbeae95"
      },
      "execution_count": 47,
      "outputs": [
        {
          "output_type": "stream",
          "name": "stdout",
          "text": [
            "Epoch 1/10\n",
            "1875/1875 [==============================] - 13s 7ms/step - loss: 0.0765 - accuracy: 0.9774\n",
            "Epoch 2/10\n",
            "1875/1875 [==============================] - 13s 7ms/step - loss: 0.0510 - accuracy: 0.9841\n",
            "Epoch 3/10\n",
            "1875/1875 [==============================] - 13s 7ms/step - loss: 0.0462 - accuracy: 0.9855\n",
            "Epoch 4/10\n",
            "1875/1875 [==============================] - 14s 7ms/step - loss: 0.0404 - accuracy: 0.9875\n",
            "Epoch 5/10\n",
            "1875/1875 [==============================] - 13s 7ms/step - loss: 0.0392 - accuracy: 0.9883\n",
            "Epoch 6/10\n",
            "1875/1875 [==============================] - 12s 7ms/step - loss: 0.0403 - accuracy: 0.9883\n",
            "Epoch 7/10\n",
            "1875/1875 [==============================] - 12s 7ms/step - loss: 0.0345 - accuracy: 0.9902\n",
            "Epoch 8/10\n",
            "1875/1875 [==============================] - 12s 7ms/step - loss: 0.0350 - accuracy: 0.9897\n",
            "Epoch 9/10\n",
            "1875/1875 [==============================] - 12s 7ms/step - loss: 0.0340 - accuracy: 0.9898\n",
            "Epoch 10/10\n",
            "1875/1875 [==============================] - 12s 7ms/step - loss: 0.0340 - accuracy: 0.9901\n"
          ]
        },
        {
          "output_type": "execute_result",
          "data": {
            "text/plain": [
              "<keras.callbacks.History at 0x7f41887ce2d0>"
            ]
          },
          "metadata": {},
          "execution_count": 47
        }
      ]
    },
    {
      "cell_type": "code",
      "source": [
        "score=model.evaluate(X_test,Y_test)\n",
        "print('Test score:', score[0])\n",
        "print('Test accuracy:', score[1])"
      ],
      "metadata": {
        "colab": {
          "base_uri": "https://localhost:8080/"
        },
        "id": "EW2nY33QISL2",
        "outputId": "206878ce-c105-47ff-a7ad-5a5260534174"
      },
      "execution_count": 48,
      "outputs": [
        {
          "output_type": "stream",
          "name": "stdout",
          "text": [
            "313/313 [==============================] - 1s 3ms/step - loss: 0.0939 - accuracy: 0.9807\n",
            "Test score: 0.0938723012804985\n",
            "Test accuracy: 0.9807000160217285\n"
          ]
        }
      ]
    },
    {
      "cell_type": "markdown",
      "source": [
        "**Observations**\n",
        "* we take 32 batch size for optimal results.\n",
        "* accuracy improved as small data we are giving in batches\n"
      ],
      "metadata": {
        "id": "MWQxwPwvJwmV"
      }
    },
    {
      "cell_type": "markdown",
      "source": [
        "## **Increasing the Batch Size**\n"
      ],
      "metadata": {
        "id": "pfayS-pWHkYs"
      }
    },
    {
      "cell_type": "code",
      "source": [
        "model.fit(X_train, Y_train,\n",
        "          batch_size=10000, epochs = 10,\n",
        "          verbose=1)"
      ],
      "metadata": {
        "colab": {
          "base_uri": "https://localhost:8080/"
        },
        "id": "LWeYeDCCE3eq",
        "outputId": "0f3a7238-78e2-4d3a-ea5c-410cfd30789e"
      },
      "execution_count": 49,
      "outputs": [
        {
          "output_type": "stream",
          "name": "stdout",
          "text": [
            "Epoch 1/10\n",
            "6/6 [==============================] - 4s 593ms/step - loss: 0.0334 - accuracy: 0.9905\n",
            "Epoch 2/10\n",
            "6/6 [==============================] - 4s 593ms/step - loss: 0.0287 - accuracy: 0.9916\n",
            "Epoch 3/10\n",
            "6/6 [==============================] - 4s 590ms/step - loss: 0.0229 - accuracy: 0.9927\n",
            "Epoch 4/10\n",
            "6/6 [==============================] - 4s 593ms/step - loss: 0.0200 - accuracy: 0.9938\n",
            "Epoch 5/10\n",
            "6/6 [==============================] - 4s 591ms/step - loss: 0.0180 - accuracy: 0.9943\n",
            "Epoch 6/10\n",
            "6/6 [==============================] - 4s 596ms/step - loss: 0.0169 - accuracy: 0.9946\n",
            "Epoch 7/10\n",
            "6/6 [==============================] - 4s 595ms/step - loss: 0.0154 - accuracy: 0.9951\n",
            "Epoch 8/10\n",
            "6/6 [==============================] - 4s 592ms/step - loss: 0.0149 - accuracy: 0.9952\n",
            "Epoch 9/10\n",
            "6/6 [==============================] - 4s 594ms/step - loss: 0.0124 - accuracy: 0.9958\n",
            "Epoch 10/10\n",
            "6/6 [==============================] - 4s 591ms/step - loss: 0.0133 - accuracy: 0.9955\n"
          ]
        },
        {
          "output_type": "execute_result",
          "data": {
            "text/plain": [
              "<keras.callbacks.History at 0x7f41939e7810>"
            ]
          },
          "metadata": {},
          "execution_count": 49
        }
      ]
    },
    {
      "cell_type": "code",
      "source": [
        "score=model.evaluate(X_test,Y_test)\n",
        "print('Test score:', score[0])\n",
        "print('Test accuracy:', score[1])"
      ],
      "metadata": {
        "colab": {
          "base_uri": "https://localhost:8080/"
        },
        "id": "1YhDnhTmIMB7",
        "outputId": "514c37f7-e101-4e2c-e238-9154acc31507"
      },
      "execution_count": 50,
      "outputs": [
        {
          "output_type": "stream",
          "name": "stdout",
          "text": [
            "313/313 [==============================] - 1s 3ms/step - loss: 0.0731 - accuracy: 0.9851\n",
            "Test score: 0.07314606755971909\n",
            "Test accuracy: 0.9850999712944031\n"
          ]
        }
      ]
    },
    {
      "cell_type": "markdown",
      "source": [
        "**Observations**\n",
        "*  Larger batch sizes make larger gradient steps than smaller batch sizes for the same number of samples.\n",
        "* Bigger the batch size, lesser is the noise in the gradients and so better is the gradient estimate. This allows the model to take a better step towards a minima.\n",
        "* By using bigger batch sizes , we speed up training, as it is equivalent to taking a few big steps, instead of taking many little steps. \n",
        "* Here the accuracy has incresed by negligible amt. after increasing the batch size."
      ],
      "metadata": {
        "id": "uStTkG_RGevD"
      }
    },
    {
      "cell_type": "markdown",
      "source": [
        "Batch Size is a hyper parameter and we have to adjust according to the dataset and check it again and again  (by increasing and decreasing) to get the optimal result."
      ],
      "metadata": {
        "id": "IfMCRc9kP65M"
      }
    }
  ]
}